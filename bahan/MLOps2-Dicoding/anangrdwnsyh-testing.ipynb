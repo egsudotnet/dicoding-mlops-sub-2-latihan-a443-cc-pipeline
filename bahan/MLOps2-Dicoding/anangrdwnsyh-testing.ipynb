{
 "cells": [
  {
   "cell_type": "markdown",
   "metadata": {},
   "source": [
    "**Import Library yang Diperlukan**\n",
    "\n",
    "Kode ini mengimpor beberapa library penting yang digunakan dalam proses pengolahan data dan pengembangan model. `base64` dan `json` diimpor untuk pengkodean dan manipulasi data berbasis JSON, sedangkan `random` digunakan untuk operasi yang melibatkan pemilihan acak. `pandas` diimpor untuk manipulasi dan analisis data dalam bentuk tabel, `requests` digunakan untuk melakukan permintaan HTTP, dan `tensorflow` diimpor sebagai library utama untuk pengembangan dan pelatihan model machine learning."
   ]
  },
  {
   "cell_type": "code",
   "execution_count": 162,
   "metadata": {},
   "outputs": [],
   "source": [
    "# Cell 1: Import library yang diperlukan\n",
    "import base64\n",
    "import json\n",
    "import random\n",
    "import pandas as pd\n",
    "import requests\n",
    "import tensorflow as tf"
   ]
  },
  {
   "cell_type": "markdown",
   "metadata": {},
   "source": [
    "**Membaca Data dari File CSV**\n",
    "\n",
    "Kode ini menggunakan `pandas` untuk membaca data dari file CSV yang terletak di path `\"C:\\Users\\ANANG\\MLOps2\\Submission_2\\data\\heart.csv\"`. Hasil pembacaan ini disimpan dalam variabel `data_csv`, yang menjadi sebuah DataFrame `pandas` yang memungkinkan manipulasi dan analisis data lebih lanjut."
   ]
  },
  {
   "cell_type": "code",
   "execution_count": 163,
   "metadata": {},
   "outputs": [],
   "source": [
    "# Membaca data dari file CSV\n",
    "data_csv = pd.read_csv(r\"C:\\Users\\ANANG\\MLOps2\\Submission_2\\data\\heart.csv\")"
   ]
  },
  {
   "cell_type": "markdown",
   "metadata": {},
   "source": [
    "**Memilih Data Acak untuk Prediksi**\n",
    "\n",
    "Kode ini memilih satu baris data secara acak dari DataFrame `data_csv` untuk digunakan sebagai input prediksi. Pertama, kode mendapatkan daftar nama kolom dari DataFrame dan memilih indeks baris acak menggunakan `random.randint()`. Kemudian, kode mengambil nilai fitur dari baris yang dipilih dan membuat dictionary `inputs` di mana setiap nama kolom dipetakan ke nilai fitur yang sesuai. Dictionary `inputs` ini siap digunakan sebagai input untuk model prediksi."
   ]
  },
  {
   "cell_type": "code",
   "execution_count": 164,
   "metadata": {},
   "outputs": [
    {
     "data": {
      "text/plain": [
       "{'Age': 54,\n",
       " 'Sex': 'M',\n",
       " 'ChestPainType': 'ASY',\n",
       " 'RestingBP': 136,\n",
       " 'Cholesterol': 220,\n",
       " 'FastingBS': 0,\n",
       " 'RestingECG': 'Normal',\n",
       " 'MaxHR': 140,\n",
       " 'ExerciseAngina': 'Y',\n",
       " 'Oldpeak': 3.0,\n",
       " 'ST_Slope': 'Flat',\n",
       " 'HeartDisease': 1}"
      ]
     },
     "execution_count": 164,
     "metadata": {},
     "output_type": "execute_result"
    }
   ],
   "source": [
    "# Cell 2: Memilih data acak untuk prediksi\n",
    "columns = data_csv.columns.values\n",
    "rand = random.randint(0, len(data_csv) - 1)\n",
    "\n",
    "# Mengambil fitur\n",
    "features = data_csv.values[rand]\n",
    "\n",
    "# Membuat dictionary input\n",
    "inputs = {key: value for key, value in zip(columns, features)}\n",
    "inputs"
   ]
  },
  {
   "cell_type": "markdown",
   "metadata": {},
   "source": [
    "**Mendefinisikan Fungsi-Fungsi Helper untuk Membuat TFRecord**\n",
    "\n",
    "Kode ini mendefinisikan tiga fungsi helper yang masing-masing digunakan untuk mengonversi nilai ke dalam format yang sesuai untuk disimpan dalam TFRecord. TFRecord adalah format yang efisien untuk menyimpan data terstruktur dalam TensorFlow. \n",
    "\n",
    "1. **`string_feature(value)`**: Fungsi ini menerima nilai string dan mengonversinya menjadi `tf.train.Feature` dengan tipe `bytes_list`.\n",
    "2. **`float_feature(value)`**: Fungsi ini menerima nilai float dan mengonversinya menjadi `tf.train.Feature` dengan tipe `float_list`.\n",
    "3. **`int_feature(value)`**: Fungsi ini menerima nilai integer dan mengonversinya menjadi `tf.train.Feature` dengan tipe `int64_list`.\n",
    "\n",
    "Ketiga fungsi ini membantu dalam membangun protokol buffer yang sesuai untuk menulis data ke dalam file TFRecord."
   ]
  },
  {
   "cell_type": "code",
   "execution_count": 165,
   "metadata": {},
   "outputs": [],
   "source": [
    "# Cell 3: Mendefinisikan fungsi-fungsi helper untuk membuat TFRecord\n",
    "def string_feature(value):\n",
    "    return tf.train.Feature(\n",
    "        bytes_list=tf.train.BytesList(value=[bytes(value, \"utf-8\")]),\n",
    "    )\n",
    "\n",
    "def float_feature(value):\n",
    "    return tf.train.Feature(\n",
    "        float_list=tf.train.FloatList(value=[value]),\n",
    "    )\n",
    "\n",
    "def int_feature(value):\n",
    "    return tf.train.Feature(\n",
    "        int64_list=tf.train.Int64List(value=[value]),\n",
    "    )"
   ]
  },
  {
   "cell_type": "markdown",
   "metadata": {},
   "source": [
    "**Fungsi untuk Menyiapkan JSON Request**\n",
    "\n",
    "Kode ini mendefinisikan fungsi `prepare_json` yang bertujuan untuk menyiapkan request JSON yang akan dikirim ke model TensorFlow Serving. Berikut langkah-langkah yang dilakukan oleh fungsi ini:\n",
    "\n",
    "1. **Inisialisasi `feature_spec`**:\n",
    "   - `feature_spec` adalah dictionary yang akan menyimpan fitur dalam format yang sesuai untuk TFRecord.\n",
    "\n",
    "2. **Iterasi Melalui `inputs`**:\n",
    "   - Fungsi ini iterasi melalui setiap pasangan kunci (nama fitur) dan nilai dalam dictionary `inputs`.\n",
    "   - Berdasarkan tipe nilai (string, float, atau integer), nilai tersebut dikonversi menggunakan fungsi helper yang telah didefinisikan (`string_feature`, `float_feature`, `int_feature`) dan ditambahkan ke `feature_spec`.\n",
    "\n",
    "3. **Membangun `tf.train.Example`**:\n",
    "   - `feature_spec` digunakan untuk membangun objek `tf.train.Example`, yang kemudian diserialisasi menjadi string biner menggunakan metode `SerializeToString`.\n",
    "\n",
    "4. **Mengkodekan `tf.train.Example` dalam Base64**:\n",
    "   - Hasil serialisasi di-encode menggunakan base64 dan dimasukkan ke dalam format yang diharapkan oleh TensorFlow Serving.\n",
    "\n",
    "5. **Membuat JSON Request**:\n",
    "   - Hasil akhir adalah dictionary yang mencakup `signature_name` dan `instances`. Dictionary ini dikonversi menjadi string JSON menggunakan `json.dumps`.\n",
    "\n",
    "Fungsi ini mengembalikan string JSON yang siap untuk dikirim sebagai request ke TensorFlow Serving, dengan data input yang di-encode sesuai spesifikasi model."
   ]
  },
  {
   "cell_type": "code",
   "execution_count": 166,
   "metadata": {},
   "outputs": [],
   "source": [
    "# Cell 4: Fungsi untuk menyiapkan JSON request\n",
    "def prepare_json(inputs: dict):\n",
    "    feature_spec = dict()\n",
    "\n",
    "    for keys, values in inputs.items():\n",
    "        if isinstance(values, str):\n",
    "            feature_spec[keys] = string_feature(values)\n",
    "        elif isinstance(values, float):\n",
    "            feature_spec[keys] = float_feature(values)\n",
    "        else:\n",
    "            feature_spec[keys] = int_feature(values)\n",
    "\n",
    "    example = tf.train.Example(\n",
    "        features=tf.train.Features(feature=feature_spec)\n",
    "    ).SerializeToString()\n",
    "\n",
    "    result = [{\"examples\": {\"b64\": base64.b64encode(example).decode()}}]\n",
    "\n",
    "    return json.dumps(\n",
    "        {\n",
    "            \"signature_name\": \"serving_default\",\n",
    "            \"instances\": result,\n",
    "        }\n",
    "    )"
   ]
  },
  {
   "cell_type": "markdown",
   "metadata": {},
   "source": [
    "**Fungsi untuk Melakukan Prediksi**\n",
    "\n",
    "Kode ini mendefinisikan fungsi `make_predictions` yang bertujuan untuk mengirim data input ke model TensorFlow Serving dan mendapatkan hasil prediksi. Berikut langkah-langkah yang dilakukan oleh fungsi ini:\n",
    "\n",
    "1. **Mempersiapkan JSON Data**:\n",
    "   - `json_data = prepare_json(inputs)`: Fungsi ini memanggil `prepare_json` untuk mengonversi data input menjadi format JSON yang sesuai untuk dikirim ke endpoint model.\n",
    "\n",
    "2. **Menentukan Endpoint Model**:\n",
    "   - `endpoint = \"https://mlops-production-6fea.up.railway.app/v1/models/heart-disease-model:predict\"`: Endpoint ini adalah URL dari model TensorFlow Serving yang di-deploy untuk prediksi penyakit jantung.\n",
    "\n",
    "3. **Mengirim Request Prediksi**:\n",
    "   - `response = requests.post(endpoint, data=json_data, headers={\"Content-Type\": \"application/json\"})`: Mengirimkan request POST ke endpoint model dengan data JSON yang telah dipersiapkan dan header yang menyatakan konten berupa JSON.\n",
    "\n",
    "4. **Mendapatkan Hasil Prediksi**:\n",
    "   - `prediction = response.json()[\"predictions\"][0][0]`: Mendapatkan hasil prediksi dari response JSON yang dikembalikan oleh model. Hasil prediksi ini diambil dari field `predictions`.\n",
    "\n",
    "5. **Menginterpretasikan Hasil Prediksi**:\n",
    "   - Fungsi ini menginterpretasikan hasil prediksi: jika nilai prediksi kurang dari 0.5, fungsi mengembalikan \"Tidak Mengalami Penyakit Jantung\", sebaliknya jika nilai prediksi 0.5 atau lebih, fungsi mengembalikan \"Mengalami Penyakit Jantung\".\n",
    "\n",
    "Fungsi `make_predictions` ini mengautomasi proses pengiriman data ke model yang telah di-deploy, mendapatkan hasil prediksi, dan menginterpretasikan hasil tersebut dalam bentuk yang mudah dipahami."
   ]
  },
  {
   "cell_type": "code",
   "execution_count": 167,
   "metadata": {},
   "outputs": [],
   "source": [
    "# Cell 5: Fungsi untuk melakukan prediksi\n",
    "def make_predictions(inputs):\n",
    "    json_data = prepare_json(inputs)\n",
    "\n",
    "    endpoint = \"https://mlops-production-6fea.up.railway.app/v1/models/heart-disease-model:predict\"\n",
    "    response = requests.post(endpoint, data=json_data, headers={\"Content-Type\": \"application/json\"})\n",
    "    prediction = response.json()[\"predictions\"][0][0]\n",
    "\n",
    "    if prediction < 0.5:\n",
    "        return \"Tidak Mengalami Penyakit Jantung\"\n",
    "    else:\n",
    "        return \"Mengalami Penyakit Jantung\""
   ]
  },
  {
   "cell_type": "markdown",
   "metadata": {},
   "source": [
    "**Melakukan Prediksi dan Menampilkan Hasil**\n",
    "\n",
    "Kode ini menjalankan fungsi `make_predictions` dengan data input yang telah dipersiapkan, kemudian menampilkan hasil prediksi dan fitur input yang digunakan. Berikut langkah-langkah yang dilakukan:\n",
    "\n",
    "1. **Melakukan Prediksi**:\n",
    "   - `hasil_prediksi = make_predictions(inputs)`: Memanggil fungsi `make_predictions` dengan dictionary `inputs` yang berisi fitur-fitur input, dan menyimpan hasil prediksinya dalam variabel `hasil_prediksi`.\n",
    "\n",
    "2. **Menampilkan Hasil Prediksi**:\n",
    "   - `print(f'Hasil Prediksi: {hasil_prediksi}')`: Mencetak hasil prediksi ke konsol, yang akan berupa \"Tidak Mengalami Penyakit Jantung\" atau \"Mengalami Penyakit Jantung\" berdasarkan nilai prediksi yang dikembalikan oleh model.\n",
    "\n",
    "3. **Menampilkan Fitur Input**:\n",
    "   - `print('Fitur Input:', inputs)`: Mencetak dictionary `inputs` yang berisi fitur-fitur yang digunakan untuk prediksi ke konsol, sehingga pengguna dapat melihat data input yang digunakan.\n",
    "\n",
    "Kode ini memungkinkan pengguna untuk menjalankan prediksi menggunakan model yang di-deploy dan melihat hasil prediksi serta data input yang mendasarinya."
   ]
  },
  {
   "cell_type": "code",
   "execution_count": 168,
   "metadata": {},
   "outputs": [
    {
     "name": "stdout",
     "output_type": "stream",
     "text": [
      "Hasil Prediksi: Mengalami Penyakit Jantung\n",
      "Fitur Input: {'Age': 54, 'Sex': 'M', 'ChestPainType': 'ASY', 'RestingBP': 136, 'Cholesterol': 220, 'FastingBS': 0, 'RestingECG': 'Normal', 'MaxHR': 140, 'ExerciseAngina': 'Y', 'Oldpeak': 3.0, 'ST_Slope': 'Flat', 'HeartDisease': 1}\n"
     ]
    }
   ],
   "source": [
    "# Cell 6: Melakukan prediksi dan menampilkan hasil\n",
    "hasil_prediksi = make_predictions(inputs)\n",
    "print(f'Hasil Prediksi: {hasil_prediksi}')\n",
    "print('Fitur Input:', inputs)"
   ]
  }
 ],
 "metadata": {
  "kernelspec": {
   "display_name": "myenv",
   "language": "python",
   "name": "python3"
  },
  "language_info": {
   "name": "python",
   "version": "3.9.2"
  }
 },
 "nbformat": 4,
 "nbformat_minor": 2
}
